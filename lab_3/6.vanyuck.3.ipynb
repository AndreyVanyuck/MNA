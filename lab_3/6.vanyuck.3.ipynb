{
 "cells": [
  {
   "cell_type": "code",
   "execution_count": 3,
   "metadata": {},
   "outputs": [],
   "source": [
    "import matplotlib.pyplot as plt\n",
    "import numpy as np\n",
    "import math\n"
   ]
  },
  {
   "cell_type": "code",
   "execution_count": 4,
   "metadata": {},
   "outputs": [],
   "source": [
    "## Задание 1."
   ]
  },
  {
   "cell_type": "code",
   "execution_count": 5,
   "metadata": {},
   "outputs": [],
   "source": [
    "A = np.array([[10, 12, 3],\n",
    "              [12, 15, 12],\n",
    "              [3,  12, 10]])\n",
    "\n",
    "#ij=ji=n+1-i,n+1-j\n"
   ]
  },
  {
   "cell_type": "code",
   "execution_count": 6,
   "metadata": {},
   "outputs": [
    {
     "name": "stdout",
     "output_type": "stream",
     "text": [
      "|z-10|<=15\n",
      "|z-15|<=24\n",
      "|z-10|<=15\n"
     ]
    },
    {
     "data": {
      "image/png": "[encoded data removed]",
      "text/plain": [
       "<Figure size 432x288 with 1 Axes>"
      ]
     },
     "metadata": {
      "needs_background": "light"
     },
     "output_type": "display_data"
    }
   ],
   "source": [
    "z = []\n",
    "for i in range(0, len(A)):\n",
    "    row_sum = 0\n",
    "    for j in range(0, len(A)):\n",
    "        if i != j:\n",
    "            row_sum += abs(A[i][j])\n",
    "    z.append((A[i][i], row_sum))\n",
    "    print(f\"|z-{A[i][i]}|<={row_sum}\")\n",
    "\n",
    "fig, ax = plt.subplots()\n",
    "ax.spines[\"bottom\"].set_position((\"data\", 0))\n",
    "for i in range(0, len(A)):\n",
    "    ax.add_patch(plt.Circle((z[i][0], 0), z[i][1], facecolor=\"#FDD6BB50\", edgecolor=\"green\"))\n",
    "    plt.plot(z[i][0], 0, marker=\"o\", color=\"blue\")\n",
    "\n",
    "ax.set_aspect('equal', adjustable='datalim')\n",
    "ax.plot()  \n",
    "plt.show()"
   ]
  },
  {
   "cell_type": "code",
   "execution_count": 7,
   "metadata": {},
   "outputs": [
    {
     "name": "stdout",
     "output_type": "stream",
     "text": [
      "max eigenvalue=31.000000011972663\n",
      "min eigenvalue=-3.0000000535105116\n",
      "[31.  7. -3.]\n"
     ]
    }
   ],
   "source": [
    "def max_power_iteration(A, b0, eps):\n",
    "    b_k = [b0]\n",
    "    lambd = [0]\n",
    "    while True:\n",
    "        b_k1 = np.dot(A, b_k[-1])\n",
    "        norm_b_k1 = max(b_k1,key=abs)\n",
    "        norm_b_k = max(b_k[-1],key=abs)\n",
    "        lambd.append(norm_b_k1 / norm_b_k)\n",
    "     \n",
    "        b_k.append(b_k1)\n",
    "\n",
    "        if abs(lambd[-1] - lambd[-2]) < eps:\n",
    "            break\n",
    "    return lambd[-1]\n",
    "\n",
    "def min_power_iteration(A, b0, eps):\n",
    "    b_k = [b0]\n",
    "    lambd = [0]\n",
    "    while True:\n",
    "        b_k1 = np.linalg.solve(A, b_k[-1])\n",
    "        norm_b_k1 = max(b_k1,key=abs)\n",
    "        norm_b_k = max(b_k[-1],key=abs)\n",
    "        lambd.append(norm_b_k / norm_b_k1)\n",
    "        \n",
    "        b_k.append(b_k1)\n",
    "\n",
    "        if abs(lambd[-1] - lambd[-2]) < eps:\n",
    "            break\n",
    "    return lambd[-1]\n",
    "\n",
    "\n",
    "b0 = np.random.rand(len(A))\n",
    "\n",
    "print(f'max eigenvalue={max_power_iteration(A, b0, 10 ** -6)}')\n",
    "print(f'min eigenvalue={min_power_iteration(A, b0, 10 ** -6)}')\n",
    "print(np.linalg.eigvals(A))"
   ]
  },
  {
   "cell_type": "code",
   "execution_count": 8,
   "metadata": {},
   "outputs": [
    {
     "name": "stdout",
     "output_type": "stream",
     "text": [
      "p(A-4I) = 3.618031776792982 \n",
      "|lambda -4|=3.618033743059082\n"
     ]
    }
   ],
   "source": [
    "B = np.array([[2, -1,  0, 0],\n",
    "              [-1, 2, -1, 0],\n",
    "              [0, -1,  2, -1],\n",
    "              [0,  0, -1, 2]])\n",
    "\n",
    "b0 = np.random.rand(len(B))\n",
    "min_lambda = min_power_iteration(B, b0, 10 ** -6)\n",
    "\n",
    "for i in range(0, len(B)):\n",
    "    B[i][i] -= 4\n",
    "    \n",
    "print(f'p(A-4I) = {abs(max_power_iteration(B, b0, 10 ** -6))} \\n|lambda -4|={abs(min_lambda - 4)}')"
   ]
  },
  {
   "cell_type": "markdown",
   "metadata": {},
   "source": [
    "## Задание 2."
   ]
  },
  {
   "cell_type": "code",
   "execution_count": 34,
   "metadata": {},
   "outputs": [
    {
     "name": "stdout",
     "output_type": "stream",
     "text": [
      "eigenvalues: [1.0294742306766116, 1.114503033223913, 1.2473201220472363, 1.4146006051045252, 1.6000672531034366, 1.785798993836873, 1.9545354143050244, 2.088371040182304, 2.1653293075200852]\n",
      "\n",
      "максимальная ошибка вычисления = 0.005304602257007129 (при количестве итераций = 50)\n"
     ]
    },
    {
     "data": {
      "image/png": "[encoded data removed]",
      "text/plain": [
       "<Figure size 360x432 with 1 Axes>"
      ]
     },
     "metadata": {},
     "output_type": "display_data"
    }
   ],
   "source": [
    "def create_matrix(m, alpha):\n",
    "    A = []\n",
    "    for i in range(0, m - 1):\n",
    "        A.append([])\n",
    "        for j in range(0, m - 1):\n",
    "            if i == j:\n",
    "                A[i].append(1 + 2 * alpha)\n",
    "            elif abs(i - j) == 1:\n",
    "                A[i].append(-alpha)\n",
    "            else:\n",
    "                A[i].append(0)\n",
    "    return np.array(A)\n",
    "\n",
    "def get_norm_vector(x):\n",
    "    sum = 0\n",
    "    for val in x:\n",
    "        sum += val ** 2\n",
    "    return math.sqrt(sum)\n",
    "\n",
    "def get_minor(A, i):\n",
    "    for n in range(i, len(A)):\n",
    "        A[i][n] = 0\n",
    "        A[n][i] = 0\n",
    "    A[i][i] = 1\n",
    "    return A\n",
    "\n",
    "def qr(A, num):\n",
    "    k = 0\n",
    "    while k < num: \n",
    "        I = np.eye(len(A))\n",
    "        Q_i = []\n",
    "        QA = A\n",
    "        A_i = A\n",
    "        R = A\n",
    "        for i in range(0, len(A) - 1):\n",
    "            x = A_i.transpose()[i]\n",
    "            alpha = get_norm_vector(x)\n",
    "            e = np.array([0. if j != i else 1. for j in range(0, len(A))])\n",
    "            u = x - e.dot(alpha)\n",
    "            v = np.array([u / get_norm_vector(u)])\n",
    "            Q_i.append(I - 2 * v * v.transpose())\n",
    "            QA = Q_i[-1].dot(QA)\n",
    "            A_i = get_minor(QA, i)\n",
    "            R = Q_i[-1].dot(R)\n",
    "\n",
    "        Q = Q_i[0].transpose()\n",
    "        for i in range(1, len(Q_i)):\n",
    "            Q = Q.dot(Q_i[i].transpose())\n",
    "        A = R.dot(Q)\n",
    "        k += 1\n",
    "    result = []\n",
    "    for i in range(0, len(A)):\n",
    "        result.append(A[i][i])\n",
    "    return result\n",
    "\n",
    "\n",
    "def eigenvalues(m, alpha):\n",
    "    return [1 + 4 * alpha * (np.sin(np.pi * i / (2 * m)) ** 2) for i in range(1, m)]\n",
    "\n",
    "\n",
    "m = 10\n",
    "alpha = 0.3\n",
    "num_operations = 50\n",
    "\n",
    "\n",
    "A = create_matrix(m, alpha)  \n",
    "qr_val = qr(A, num_operations)\n",
    "qr_val.sort()\n",
    "e_val = eigenvalues(m, alpha)\n",
    "e_val.sort()\n",
    "\n",
    "err = max(abs(np.array(qr_val) - np.array(e_val)))\n",
    "\n",
    "print(f\"eigenvalues: {qr_val}\\n\")\n",
    "print(f\"максимальная ошибка вычисления = {err} (при количестве итераций = {num_operations})\")\n",
    "\n",
    "x = np.arange(1, m)\n",
    "y = abs(np.array(qr_val) - np.array(e_val))\n",
    "\n",
    "fig, ax = plt.subplots()\n",
    "\n",
    "ax.bar(x, y)\n",
    "\n",
    "ax.set_facecolor('seashell')\n",
    "fig.set_facecolor('floralwhite')\n",
    "fig.set_figwidth(5)   \n",
    "fig.set_figheight(6)\n",
    "\n",
    "plt.show()\n",
    "# print(np.linalg.eigvals(A))"
   ]
  },
  {
   "cell_type": "markdown",
   "metadata": {},
   "source": [
    "### Аналитическое решение\n",
    "<p>Для того,чтобы выполнялось условие,необходимо,чтобы минимальное собственное значение исходной матрицы было больше единицы.\n",
    "$$ 1+4\\alpha sin^2(\\frac{\\pi i}{2 m}) > 1 $$\n",
    "$$sin^2(\\frac{\\pi i}{2 m})>0 $$\n",
    "\n",
    "<p>Как видно данное условие выплнено для всех m"
   ]
  },
  {
   "cell_type": "markdown",
   "metadata": {},
   "source": [
    "## Задание 3.\n",
    "Известно, что определитель матрицы равен произведению собственных значений. Покажем это, используя qr"
   ]
  },
  {
   "cell_type": "code",
   "execution_count": 10,
   "metadata": {},
   "outputs": [
    {
     "name": "stdout",
     "output_type": "stream",
     "text": [
      "-176.00000466023755\n",
      "-175.99999999999991\n"
     ]
    }
   ],
   "source": [
    "A = np.array([[10, 13, 4],\n",
    "              [10, 15, 2],\n",
    "              [14,  15, 0]])\n",
    "\n",
    "qr_val = qr(A, 100)\n",
    "res = 1\n",
    "for val in qr_val:\n",
    "    res *= val\n",
    "print(res)\n",
    "print(np.linalg.det(A))"
   ]
  },
  {
   "cell_type": "markdown",
   "metadata": {},
   "source": [
    "## Задание 4."
   ]
  },
  {
   "cell_type": "code",
   "execution_count": 13,
   "metadata": {},
   "outputs": [],
   "source": [
    "def JacMethod(M, e=0.01):\n",
    "    M, N, H = np.copy(M), len(np.copy(M)), np.eye(len(np.copy(M)))\n",
    "    while True:\n",
    "        max, i, j = M[0][1], 0, 1\n",
    "        for x in range(0, N):\n",
    "            for y in range(1 + x, N):\n",
    "                if M[x][y] > max:\n",
    "                    max, i, j = M[x][y], x, y\n",
    "        if max < e:\n",
    "            return H, M, M.diagonal()\n",
    "        deg = (1 / 2) * math.atan((2 * M[i][j]) / (M[i][i] - M[j][j]))\n",
    "        sin, cos = math.sin(deg), math.cos(deg)\n",
    "        turn_matrix = np.eye(N)\n",
    "        turn_matrix[i][i], turn_matrix[j][j], turn_matrix[i][j],turn_matrix[j][i] = cos, cos, -sin, sin\n",
    "        turn_matrix_t =np.transpose(turn_matrix)\n",
    "        H, M = np.dot(H, turn_matrix), np.dot(turn_matrix_t, M).dot(turn_matrix)\n",
    "\n",
    "def CovariationMatrix(M):\n",
    "    A = np.copy(M)\n",
    "    M, std = np.mean(A, axis=0), np.std(A, axis=0, dtype=np.float64)    # standard deviation\n",
    "    for j, s in enumerate(std):\n",
    "        if np.abs(s)<1e-12:\n",
    "            continue\n",
    "        else:\n",
    "            for i in range(np.shape(A)[0]):\n",
    "                A[i, j] = (A[i, j]-M[j])\n",
    "    COV = np.dot(np.transpose(A), A)\n",
    "    return A, COV\n",
    "\n",
    "def cleanData(A, U, H):\n",
    "    H=np.diag(H)\n",
    "    args, sort =np.argsort(H), sorted(H)\n",
    "    U=np.transpose(np.transpose(U)[args])\n",
    "    H=np.transpose(np.transpose(H)[args])\n",
    "    H, U=np.transpose(np.transpose(H)[np.array(sort)>1]), np.transpose(np.transpose(U)[np.array(sort)>1])\n",
    "    M=np.dot(A,U)\n",
    "    return M"
   ]
  },
  {
   "cell_type": "code",
   "execution_count": 33,
   "metadata": {},
   "outputs": [
    {
     "name": "stdout",
     "output_type": "stream",
     "text": [
      "   LP национальность      пол возраст тестА1 ТестА2 ТестВ1     U1     U2  \\\n",
      "0  Y1             Y2       Y3      Y4     X1     X2     X3     X4     X5   \n",
      "1   1       французы  женщина       6  77.14  65.71  82.86  82.86  85.71   \n",
      "2   2       французы  женщина       6  68.57  62.86     80  91.43  88.57   \n",
      "3   3       французы  мужчина       6  74.29  62.86     80  85.71  82.86   \n",
      "4   4       французы  женщина       6  71.43  65.71  82.86  88.57  91.43   \n",
      "\n",
      "  ТестAсс ТестНе  \n",
      "0      X6     X7  \n",
      "1      20  77.14  \n",
      "2   17.14  74.29  \n",
      "3   22.86  68.57  \n",
      "4   14.29  77.14  \n",
      "\n",
      "\n",
      "   LP национальность пол возраст тестА1 ТестА2 ТестВ1     U1     U2 ТестAсс  \\\n",
      "0  1              0   0      Y4     X1     X2     X3     X4     X5      X6   \n",
      "1  1              1   1       6  77.14  65.71  82.86  82.86  85.71      20   \n",
      "2  1              1   1       6  68.57  62.86     80  91.43  88.57   17.14   \n",
      "3  1              1   2       6  74.29  62.86     80  85.71  82.86   22.86   \n",
      "4  1              1   1       6  71.43  65.71  82.86  88.57  91.43   14.29   \n",
      "\n",
      "  ТестНе  \n",
      "0     X7  \n",
      "1  77.14  \n",
      "2  74.29  \n",
      "3  68.57  \n",
      "4  77.14  \n",
      "275.88122261791807\n",
      "27.943117855646616\n",
      "28.26709895062938\n"
     ]
    }
   ],
   "source": [
    "import numpy as np\n",
    "import pandas as pd\n",
    "from copy import copy\n",
    "\n",
    "\n",
    "file = 'forPCAanalysis.xls'\n",
    "xl = pd.ExcelFile(file)\n",
    "data = xl.parse('данные')\n",
    "print(data[:5])\n",
    "n = data['национальность']\n",
    "g = data['пол']\n",
    "num = data['LP']\n",
    "temp = {}\n",
    "count = 0\n",
    "for i in n.keys():\n",
    "    if n[i] not in temp:\n",
    "        temp[n[i]] = count\n",
    "        count += 1\n",
    "        n[i] = temp[n[i]]\n",
    "    else:\n",
    "        n[i] = temp[n[i]]\n",
    "        continue\n",
    "temp.clear()\n",
    "count = 0\n",
    "for i in g.keys():\n",
    "    if g[i] not in temp:\n",
    "        temp[g[i]] = count\n",
    "        count += 1\n",
    "        g[i] = temp[g[i]]\n",
    "    else:\n",
    "        g[i] = temp[g[i]]\n",
    "        continue\n",
    "for i in num.keys():\n",
    "    num[i] = 1\n",
    "print('\\n\\n', data[:5])\n",
    "\n",
    "g, age = copy(data).drop(['национальность', 'возраст'], axis=1), copy(data).drop(['национальность','пол'], axis=1) #данные  с полом, возрастом + тесты\n",
    "n, tests = copy(data).drop(['пол', 'возраст'], axis=1), copy(data).drop(['пол','возраст','национальность'],axis=1)\n",
    "\n",
    "centreM, gender_covariation_matrix=CovariationMatrix(np.array(g.values[1:, 1:]))\n",
    "J = JacMethod(gender_covariation_matrix)\n",
    "vec, val= J[0], J[1]\n",
    "genderPca= cleanData(centreM, vec, val)\n",
    "\n",
    "centreM, ageCovariationMatrix=CovariationMatrix(np.array(age.values[1:, 1:]))\n",
    "J = JacMethod(ageCovariationMatrix)\n",
    "vec, val = J[0], J[1]\n",
    "agePca=cleanData(centreM, vec, val)\n",
    "\n",
    "centreM, nation_covariation_matrix=CovariationMatrix(np.array(n.values[1:, 1:]))\n",
    "J = JacMethod(nation_covariation_matrix)\n",
    "vec, val= J[0], J[1]\n",
    "nationPca = cleanData(centreM, vec, val)\n",
    "\n",
    "centreM, test_covariation_matrix=CovariationMatrix(np.array(tests.values[1:, :]))\n",
    "J = JacMethod(test_covariation_matrix)\n",
    "vec, val= J[0], J[1]\n",
    "test_pca=cleanData(centreM, vec, val)\n",
    "\n",
    "print(np.linalg.norm(np.abs(agePca - test_pca)), np.linalg.norm(np.abs(nationPca -\n",
    "test_pca)),np.linalg.norm(np.abs(genderPca - test_pca)), sep='\\n')"
   ]
  },
  {
   "cell_type": "markdown",
   "metadata": {},
   "source": [
    "Проанализировав результаты можно сделать вывод, что возраст в\n",
    "большей степени влияет на показания тестов, чем национальность и пол"
   ]
  },
  {
   "cell_type": "code",
   "execution_count": null,
   "metadata": {},
   "outputs": [],
   "source": []
  }
 ],
 "metadata": {
  "kernelspec": {
   "display_name": "Python 3.6.8 64-bit",
   "language": "python",
   "name": "python36864bit32fa70fa2e4641c9834668fb3da99fce"
  },
  "language_info": {
   "codemirror_mode": {
    "name": "ipython",
    "version": 3
   },
   "file_extension": ".py",
   "mimetype": "text/x-python",
   "name": "python",
   "nbconvert_exporter": "python",
   "pygments_lexer": "ipython3",
   "version": "3.6.8"
  }
 },
 "nbformat": 4,
 "nbformat_minor": 4
}
