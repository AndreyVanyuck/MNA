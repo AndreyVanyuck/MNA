{
 "cells": [
  {
   "cell_type": "markdown",
   "metadata": {},
   "source": [
    "### Задание 1.\n",
    "**Разработать алгоритмы численного решения системы линейных уравнений**\n",
    "\n",
    "\n",
    "*Вариант 4.*\n",
    "\n",
    "$$\n",
    "\\begin{align*}\n",
    "  & 3.738x_1 + 0.195x_2 + 0.275x_3 + 0.136x_4 = 0.815;\\\\\n",
    "  & 0.519x_1 + 5.002x_2 + 0.405x_3 + 0.283x_4 = 0.191;\\\\\n",
    "  & 0.306x_1 + 0.381x_2 + 4.812x_3 + 0.418x_4 = 0.423;\\\\ \n",
    "  & 0.272x_1 + 0.142x_2 + 0.314x_3 + 3.935x_4 = 0.352\\\\\n",
    "\\end{align*}\n",
    "$$\n",
    "\n",
    "**1) метод Гаусса**"
   ]
  },
  {
   "cell_type": "code",
   "execution_count": 11,
   "metadata": {},
   "outputs": [],
   "source": [
    "import numpy as np\n",
    "import matplotlib.pyplot as plot\n",
    "import matplotlib.pyplot as plt\n",
    "import copy\n",
    "import numpy\n",
    "import math\n"
   ]
  },
  {
   "cell_type": "code",
   "execution_count": 12,
   "metadata": {},
   "outputs": [],
   "source": [
    "matrix = np.array([[3.738, 0.195, 0.275, 0.136, 0.815],\n",
    "          [0.519, 5.002, 0.405, 0.283, 0.191], \n",
    "          [0.306, 0.381, 4.812, 0.418, 0.423],\n",
    "          [0.272, 0.142, 0.314, 3.935, 0.352]])\n",
    "\n",
    "A = np.array([[3.738, 0.195, 0.275, 0.136],\n",
    "     [0.519, 5.002, 0.405, 0.283], \n",
    "     [0.306, 0.381, 4.812, 0.418],\n",
    "     [0.272, 0.142, 0.314, 3.935]])\n",
    "b = np.array([0.815, 0.191, 0.423, 0.352])"
   ]
  },
  {
   "cell_type": "code",
   "execution_count": 13,
   "metadata": {},
   "outputs": [],
   "source": [
    "def my_plot(intermediate_value, ans):\n",
    "    col_1 = []\n",
    "    col_2 = []\n",
    "    col_3 = []\n",
    "    col_4 = []\n",
    "\n",
    "    for arr in intermediate_value:\n",
    "        col_1.append(arr[0] - ans[0])\n",
    "        col_2.append(arr[1] - ans[1])\n",
    "        col_3.append(arr[2] - ans[2])\n",
    "        col_4.append(arr[3] - ans[3])\n",
    "\n",
    "    plt.plot(range(1, len(col_1) + 1), col_1 , label = \"Deviation x1\")\n",
    "    plt.plot(range(1, len(col_2) + 1), col_2 , label = \"Deviation x2\")\n",
    "    plt.plot(range(1, len(col_3) + 1), col_3 , label = \"Deviation x3\")\n",
    "    plt.plot(range(1, len(col_4) + 1), col_4 , label = \"Deviation x4\")\n",
    "    plt.legend(loc=\"best\")\n",
    "    plt.xlabel(\"Iteration number\")\n",
    "    plot.show()\n",
    "\n",
    "    print(ans)"
   ]
  },
  {
   "cell_type": "code",
   "execution_count": 14,
   "metadata": {},
   "outputs": [],
   "source": [
    "def get_vector_norm(x):\n",
    "    sum = 0\n",
    "    for val in x:\n",
    "        sum += val ** 2\n",
    "    return math.sqrt(sum)\n",
    "\n",
    "def get_residual_norm(residual):\n",
    "    norms = []\n",
    "    for arr in residual:\n",
    "        norms.append(get_vector_norm(arr))\n",
    "    return norms"
   ]
  },
  {
   "cell_type": "code",
   "execution_count": 15,
   "metadata": {},
   "outputs": [],
   "source": [
    "def get_norm_of_matrix(matrix):\n",
    "    norm_matrix = 0\n",
    "    for row in matrix[:]:\n",
    "        norm_matrix += abs(max(row, key=abs))\n",
    "    return norm_matrix\n",
    "\n",
    "def get_errors(A, b, x, abs_b):    \n",
    "    norm_b = max(b, key=abs)\n",
    "    rel_b = abs_b / norm_b   \n",
    "    inv_A = np.linalg.inv(A)\n",
    "    norm_inv_A = get_norm_of_matrix(inv_A)\n",
    "    abs_x = norm_inv_A * abs_b  \n",
    "    print(f\"absolute error x = {abs_x}\")\n",
    "\n",
    "    norm_A = get_norm_of_matrix(A)\n",
    "    rel_x = norm_A * norm_inv_A * rel_b\n",
    "    print(f\"relative error x <= {rel_x}\")"
   ]
  },
  {
   "cell_type": "code",
   "execution_count": 16,
   "metadata": {},
   "outputs": [
    {
     "name": "stdout",
     "output_type": "stream",
     "text": [
      "[[1.         0.05216693 0.07356875 0.03638309 0.21803103]\n",
      " [0.         1.         0.07373333 0.05308968 0.01564685]\n",
      " [0.         0.         1.         0.08136088 0.07360955]\n",
      " [0.         0.         0.         1.         0.06925225]]\n",
      "\n",
      "\n",
      "\n",
      "\n",
      "absolute error x = 0.0009408422900778523\n",
      "relative error x <= 0.02018712776268884\n"
     ]
    },
    {
     "data": {
      "image/png": "[encoded data removed]",
      "text/plain": [
       "<Figure size 432x288 with 1 Axes>"
      ]
     },
     "metadata": {
      "needs_background": "light"
     },
     "output_type": "display_data"
    },
    {
     "name": "stdout",
     "output_type": "stream",
     "text": [
      "[0.21014759 0.00695823 0.06797513 0.06925225]\n"
     ]
    }
   ],
   "source": [
    "intermediate_value = []\n",
    "\n",
    "def gauss(matrix):\n",
    "    matrix = numpy.array(matrix)\n",
    "\n",
    "    n = len(matrix[:, 0])\n",
    "\n",
    "    for i in range(n):\n",
    "        max = abs(matrix[i][i])     \n",
    "        col_of_max_element = i      \n",
    "        j = i               \n",
    "        while j < n:\n",
    "            if abs(matrix[j][i]) > max:\n",
    "                max = abs(matrix[j][i])\n",
    "                col_of_max_element = j\n",
    "            j += 1\n",
    "\n",
    "        if col_of_max_element != i:     \n",
    "            temp = copy.deepcopy(matrix[i][:])\n",
    "            matrix[i][:] = matrix[col_of_max_element][:]\n",
    "            matrix[col_of_max_element][:] = temp\n",
    "            \n",
    "        pivot = float(matrix[i][i])\n",
    "\n",
    "        j = i\n",
    "        while j < n + 1:                        \n",
    "            matrix[i][j] = matrix[i][j] / pivot            \n",
    "            j += 1\n",
    "             \n",
    "        j = i + 1\n",
    "        while j < n:                        \n",
    "            b = matrix[j][i]                \n",
    "            k = i \n",
    "            while k < n + 1:\n",
    "                matrix[j][k] = matrix[j][k] - matrix[i][k] * b\n",
    "                k += 1\n",
    "            j += 1\n",
    "        intermediate_value.append(back_trace(matrix, n))\n",
    "    print(matrix)    \n",
    "    print('\\n\\n\\n') \n",
    "    \n",
    "    result = back_trace(matrix, n)\n",
    "    \n",
    "    return result\n",
    "\n",
    "\n",
    "def back_trace(matrix, n): \n",
    "    matrix = numpy.array(matrix)\n",
    "    i = n - 1\n",
    "    while i > 0:\n",
    "        j = i - 1\n",
    "        while j >= 0:\n",
    "            matrix[j][n] = matrix[j][n] - matrix[j][i] * matrix[i][n]\n",
    "            j -= 1\n",
    "        i -= 1\n",
    "    return matrix[:, n]\n",
    "\n",
    "\n",
    "ans = gauss(matrix)\n",
    "get_errors(A, b, ans, 0.001)\n",
    "my_plot(intermediate_value, ans)"
   ]
  },
  {
   "cell_type": "markdown",
   "metadata": {},
   "source": [
    "   **2) метод Гаусса-Жордана**"
   ]
  },
  {
   "cell_type": "code",
   "execution_count": 17,
   "metadata": {},
   "outputs": [
    {
     "name": "stdout",
     "output_type": "stream",
     "text": [
      "[[1.         0.05216693 0.07356875 0.03638309 0.21803103]\n",
      " [0.         1.         0.07373333 0.05308968 0.01564685]\n",
      " [0.         0.         1.         0.08136088 0.07360955]\n",
      " [0.         0.         0.         1.         0.06925225]]\n",
      "[[1.         0.         0.         0.         0.21014759]\n",
      " [0.         1.         0.         0.         0.00695823]\n",
      " [0.         0.         1.         0.         0.06797513]\n",
      " [0.         0.         0.         1.         0.06925225]]\n",
      "absolute error x = 0.0009408422900778523\n",
      "relative error x <= 0.02018712776268884\n"
     ]
    },
    {
     "data": {
      "image/png": "[encoded data removed]",
      "text/plain": [
       "<Figure size 432x288 with 1 Axes>"
      ]
     },
     "metadata": {
      "needs_background": "light"
     },
     "output_type": "display_data"
    },
    {
     "name": "stdout",
     "output_type": "stream",
     "text": [
      "[0.21014758655117097, 0.0069582346758086736, 0.06797512703550775, 0.06925224834687857]\n"
     ]
    }
   ],
   "source": [
    "intermediate_value = []\n",
    "\n",
    "def jordan(matrix):\n",
    "\n",
    "    matrix = numpy.array(matrix)\n",
    "\n",
    "    n = len(matrix[:, 0])\n",
    "\n",
    "    for i in range(n):\n",
    "        max = abs(matrix[i][i])     \n",
    "        col_of_max_element = i      \n",
    "        j = i               \n",
    "        while j < n:\n",
    "            if abs(matrix[j][i]) > max:\n",
    "                max = abs(matrix[j][i])\n",
    "                col_of_max_element = j\n",
    "            j += 1\n",
    "\n",
    "        if col_of_max_element != i:         \n",
    "            temp = copy.deepcopy(matrix[i][:])\n",
    "            matrix[i][:] = matrix[col_of_max_element][:]\n",
    "            matrix[col_of_max_element][:] = temp\n",
    "            \n",
    "        pivot = float(matrix[i][i])\n",
    "\n",
    "        j = i\n",
    "        while j < n + 1:                        \n",
    "            matrix[i][j] = matrix[i][j] / pivot            \n",
    "            j += 1\n",
    "             \n",
    "        j = i + 1\n",
    "        while j < n:                            \n",
    "            b = matrix[j][i]                    \n",
    "            k = i \n",
    "            while k < n + 1:\n",
    "                matrix[j][k] = matrix[j][k] - matrix[i][k] * b\n",
    "                k += 1\n",
    "            j += 1\n",
    "            \n",
    "        intermediate_value.append(get_result(back_trace(copy.deepcopy(matrix), n),n))\n",
    "   \n",
    "    print(matrix) \n",
    "    matrix = back_trace(matrix,n)    \n",
    "    print(matrix)\n",
    "    \n",
    "    result = get_result(matrix, n)\n",
    "    \n",
    "    return result\n",
    "\n",
    "def get_result(matrix, n):\n",
    "    result = []\n",
    "    i = 0\n",
    "    while(i < n):\n",
    "        result.append(matrix[i][n])\n",
    "        i += 1\n",
    "    return result\n",
    "\n",
    "def back_trace(matrix, n):\n",
    "    k = n - 1       \n",
    "    while(k > -1):\n",
    "        j = k - 1\n",
    "        while(j > -1):\n",
    "            i = k\n",
    "            b = matrix[j][i]\n",
    "            while(i < n + 1):\n",
    "                matrix[j][i] = matrix[j][i] - matrix[k][i] * b\n",
    "                i += 1\n",
    "            j -= 1\n",
    "        k -= 1  \n",
    "    return matrix\n",
    "\n",
    "ans = jordan(matrix)\n",
    "\n",
    "get_errors(A, b, ans, 0.001)\n",
    "\n",
    "my_plot(intermediate_value, ans)"
   ]
  },
  {
   "cell_type": "markdown",
   "metadata": {},
   "source": [
    "   **3) метод Якоби**"
   ]
  },
  {
   "cell_type": "code",
   "execution_count": 18,
   "metadata": {},
   "outputs": [
    {
     "name": "stdout",
     "output_type": "stream",
     "text": [
      "absolute error x = 0.0009408422900778523\n",
      "relative error x <= 0.02018712776268884\n"
     ]
    },
    {
     "data": {
      "image/png": "[encoded data removed]",
      "text/plain": [
       "<Figure size 432x288 with 1 Axes>"
      ]
     },
     "metadata": {
      "needs_background": "light"
     },
     "output_type": "display_data"
    },
    {
     "name": "stdout",
     "output_type": "stream",
     "text": [
      "[0.21014759 0.00695823 0.06797513 0.06925225]\n"
     ]
    }
   ],
   "source": [
    "residual_jacobi = [] #невязка\n",
    "\n",
    "def jacobi(A, b, x0, eps):\n",
    "    L = np.zeros((len(A), len(A))) \n",
    "    U = np.zeros((len(A), len(A)))\n",
    "    D = np.zeros((len(A), len(A)))\n",
    "    for i in range(len(A)):\n",
    "        for j in range(len(A)):\n",
    "            if i > j:\n",
    "                L[i][j] = A[i][j]\n",
    "            elif i == j:\n",
    "                D[i][j] = A[i][j]\n",
    "            else:\n",
    "                U[i][j] = A[i][j]\n",
    "    inv_D = np.linalg.inv(D)\n",
    "    T = -inv_D.dot(L + U)\n",
    "    C = inv_D.dot(b)\n",
    "    \n",
    "    x_list = [x0]\n",
    "    is_converage = True\n",
    "    while is_converage:\n",
    "        x0 = T.dot(x0) + C\n",
    "        residual_jacobi.append(A.dot(x0) - b)\n",
    "        x_list.append(x0)\n",
    "        is_converage = converge(x_list[-2], x_list[-1], eps)\n",
    "    return x_list\n",
    "    \n",
    "        \n",
    "def converge(x_k, x_k1, eps):\n",
    "    delta_x = x_k - x_k1\n",
    "    norm_x = abs(max(delta_x, key=abs))\n",
    "    return abs(norm_x) > eps    \n",
    "\n",
    "\n",
    "x0 = np.array([1, 0, -10, 3])\n",
    "ans = jacobi(A, b, x0, 10 ** -8) \n",
    "get_errors(A, b, ans, 0.001)\n",
    "\n",
    "\n",
    "my_plot(ans[1:-1], ans[-1])   "
   ]
  },
  {
   "cell_type": "markdown",
   "metadata": {},
   "source": [
    "   **4) метод Гаусса-Зейделя**"
   ]
  },
  {
   "cell_type": "code",
   "execution_count": 19,
   "metadata": {
    "scrolled": true
   },
   "outputs": [
    {
     "data": {
      "text/plain": [
       "array([0.21014759, 0.00695823, 0.06797513, 0.06925225])"
      ]
     },
     "execution_count": 19,
     "metadata": {},
     "output_type": "execute_result"
    }
   ],
   "source": [
    "residual_seidel = [] #невязка \n",
    "def seidel(A, b, x0, eps):\n",
    "    L = np.zeros((len(A), len(A))) \n",
    "    U = np.zeros((len(A), len(A))) \n",
    "    for i in range(len(A)):\n",
    "        for j in range(len(A)):\n",
    "            if i >= j:\n",
    "                L[i][j] = A[i][j]\n",
    "            else:\n",
    "                U[i][j] = A[i][j]\n",
    "    inv_L = np.linalg.inv(L)\n",
    "    T = -inv_L.dot(U)\n",
    "    C = inv_L.dot(b)\n",
    "    x_list = [x0]\n",
    "    is_converage = True\n",
    "    while is_converage:\n",
    "        x0 = T.dot(x0) + C\n",
    "        residual_seidel.append(A.dot(x0) - b)\n",
    "        x_list.append(x0)\n",
    "        is_converage = converge(x_list[-2], x_list[-1], eps)\n",
    "    return x_list\n",
    "        \n",
    "        \n",
    "def converge(x_k, x_k1, eps):\n",
    "    delta_x = x_k - x_k1\n",
    "    norm_x = abs(max(delta_x, key=abs))\n",
    "    return abs(norm_x) > eps\n",
    "\n",
    "x = np.array([1, 0, -10, 3])   \n",
    "\n",
    "seidel(A, b, x, 10 ** -8)[-1]"
   ]
  },
  {
   "cell_type": "code",
   "execution_count": 20,
   "metadata": {},
   "outputs": [
    {
     "data": {
      "image/png": "[encoded data removed]",
      "text/plain": [
       "<Figure size 432x288 with 1 Axes>"
      ]
     },
     "metadata": {
      "needs_background": "light"
     },
     "output_type": "display_data"
    }
   ],
   "source": [
    "jac_res_norm = get_residual_norm(residual_jacobi)\n",
    "sei_res_norm = get_residual_norm(residual_seidel)\n",
    "\n",
    "plt.plot(range(0, len(jac_res_norm)), jac_res_norm, label=\"residual jacobi\")\n",
    "plt.plot(range(0, len(sei_res_norm)), sei_res_norm, label=\"residual seidel\")\n",
    "plt.xlabel(\"Iteration number\")\n",
    "plt.legend(loc=\"best\")\n",
    "plt.show()"
   ]
  },
  {
   "cell_type": "markdown",
   "metadata": {},
   "source": [
    "Метод зейделя сходится быстрее."
   ]
  },
  {
   "cell_type": "markdown",
   "metadata": {},
   "source": [
    "## Выводы\n",
    "\n",
    "Из графиков отклонений значений можно сделать вывод, что методы Гаусса, Гаусса-Жордана сходятся быстрее $(i=4)$. Методы Якоби, Гаусса-Зейделя сходятся при $i=14, i=7$ соответственно. Сходимость метода Якоби можно улучшить приблизив начальный вектор Х к решению системы. Полученный результат так же обусловлен тем фактом, что методы тестировались на системе 4 уравнений. Можно сделать вывод, что прямые методы сходятся быстрее на системах с малым числом уравнений. Итерационные методы применяют главным образом для решения задач большой размерности, когда использование прямых методов невозможно из-за необходимости выполнения чрезмерно большого числа арифметических операций. Так же прямые методы негодны для разряженных систем, потому что при их использовании большое число нулевых элементов превращается в ненулевые и матрица теряет свойство разреженности. В противоположность им при использованнии итерационных методов в ходе итерационного процесса матрица не меняется, и она, естественно, остается разреженной."
   ]
  },
  {
   "cell_type": "markdown",
   "metadata": {},
   "source": [
    "## Задание 2\n"
   ]
  },
  {
   "cell_type": "code",
   "execution_count": 21,
   "metadata": {},
   "outputs": [],
   "source": [
    "A = np.array([[3.738, 0.195, 0.275, 0.136],\n",
    "     [0.519, 5.002, 0.405, 0.283], \n",
    "     [0.306, 0.381, 4.812, 0.418],\n",
    "     [0.272, 0.142, 0.314, 3.935]])\n",
    "b = np.array([0.815, 0.191, 0.423, 0.352])\n",
    "x0 = np.array([0.8, 0.8, 0.8, 0.8])"
   ]
  },
  {
   "cell_type": "code",
   "execution_count": null,
   "metadata": {},
   "outputs": [],
   "source": []
  },
  {
   "cell_type": "code",
   "execution_count": 22,
   "metadata": {},
   "outputs": [
    {
     "name": "stdout",
     "output_type": "stream",
     "text": [
      "[0.21014761 0.00695817 0.0679751  0.0692522 ]\n"
     ]
    },
    {
     "data": {
      "image/png": "[encoded data removed]",
      "text/plain": [
       "<Figure size 432x288 with 1 Axes>"
      ]
     },
     "metadata": {
      "needs_background": "light"
     },
     "output_type": "display_data"
    },
    {
     "name": "stdout",
     "output_type": "stream",
     "text": [
      "[0.21014761 0.00695817 0.0679751  0.0692522 ]\n"
     ]
    }
   ],
   "source": [
    "residual_conjgrad = [] #невязка \n",
    "def conjgrad(A, b, x, eps): \n",
    "    x_list = [x]\n",
    "    \n",
    "    r = b - np.dot(A, x)\n",
    "    p = r\n",
    "    is_converage = True\n",
    "    while is_converage:\n",
    "        alpha = r.transpose().dot(r) / p.transpose().dot(A).dot(p)\n",
    "        x = x + alpha * p\n",
    "        x_list.append(x)\n",
    "        residual_conjgrad.append(A.dot(x) - b)\n",
    "        r_prev = r\n",
    "        r = r - alpha * A.dot(p)\n",
    "        beta = r.transpose().dot(r) / r_prev.transpose().dot(r_prev)\n",
    "        p = r + beta * p\n",
    "        is_converage = converge(x_list[-2], x_list[-1], eps)\n",
    "        #is_converage = get_residual_norm(residual_conjgrad)[-1] > eps\n",
    "    return x_list\n",
    "\n",
    "ans_1 = conjgrad(A, b, x0, 10 ** -6)\n",
    "print(ans_1[-1])\n",
    "\n",
    "\n",
    "my_plot(ans_1, ans_1[-1])\n"
   ]
  },
  {
   "cell_type": "code",
   "execution_count": 23,
   "metadata": {
    "scrolled": true
   },
   "outputs": [
    {
     "name": "stdout",
     "output_type": "stream",
     "text": [
      "[0.21014758 0.00695826 0.06797512 0.06925227]\n"
     ]
    },
    {
     "data": {
      "image/png": "[encoded data removed]",
      "text/plain": [
       "<Figure size 432x288 with 1 Axes>"
      ]
     },
     "metadata": {
      "needs_background": "light"
     },
     "output_type": "display_data"
    },
    {
     "name": "stdout",
     "output_type": "stream",
     "text": [
      "[0.21014758 0.00695826 0.06797512 0.06925227]\n"
     ]
    }
   ],
   "source": [
    "residual_preconjgrad = [] #невязка \n",
    "def preconditioned_conjgrad(A, b, x0, eps):\n",
    "    x_list = [x0]\n",
    "    \n",
    "    M = np.zeros((len(A), len(A))) #Jacobi Preconditionner\n",
    "    for i in range(len(A)):        #   \n",
    "        M[i][i] = A[i][i]          # \n",
    "\n",
    "    r0 = b - A.dot(x0)\n",
    "    z0 = np.linalg.inv(M).dot(r0)\n",
    "    d0 = z0\n",
    "    is_converage = True\n",
    "    while is_converage:\n",
    "        alpha_k = z0.transpose().dot(r0) / d0.transpose().dot(A).dot(d0)\n",
    "        x0 = x0 + alpha_k * d0\n",
    "        x_list.append(x0)\n",
    "        residual_preconjgrad.append(A.dot(x0) - b)\n",
    "        r_k = r0 - alpha_k * A.dot(d0)\n",
    "        z_k = np.linalg.inv(M).dot(r_k)\n",
    "        beta_k = z_k.transpose().dot(r_k) / z0.transpose().dot(r0)\n",
    "        d0 = z_k + beta_k * d0\n",
    "        r0 = r_k\n",
    "        z0 = z_k\n",
    "        is_converage = get_residual_norm(residual_preconjgrad)[-1] > eps\n",
    "    return x_list\n",
    "\n",
    "ans_2 = preconditioned_conjgrad(A, b, x0, 10 ** -6)\n",
    "print(ans_2[-1])\n",
    "\n",
    "my_plot(ans_2, ans_2[-1])"
   ]
  },
  {
   "cell_type": "code",
   "execution_count": 24,
   "metadata": {},
   "outputs": [
    {
     "data": {
      "image/png": "[encoded data removed]",
      "text/plain": [
       "<Figure size 432x288 with 1 Axes>"
      ]
     },
     "metadata": {
      "needs_background": "light"
     },
     "output_type": "display_data"
    },
    {
     "data": {
      "image/png": "[encoded data removed]",
      "text/plain": [
       "<Figure size 432x288 with 1 Axes>"
      ]
     },
     "metadata": {
      "needs_background": "light"
     },
     "output_type": "display_data"
    }
   ],
   "source": [
    "conj_res_norm = get_residual_norm(residual_conjgrad)\n",
    "preconj_res_norm = get_residual_norm(residual_preconjgrad)\n",
    "\n",
    "plt.plot(range(0, len(conj_res_norm)), conj_res_norm, label=\"residual conjgrad\")\n",
    "plt.plot(range(0, len(preconj_res_norm)), preconj_res_norm, label=\"residual preconjgrad\")\n",
    "plt.xlabel(\"Iteration number\")\n",
    "plt.legend(loc=\"best\")\n",
    "plt.show()\n",
    "\n",
    "\n",
    "jac_res_norm = get_residual_norm(residual_jacobi)\n",
    "sei_res_norm = get_residual_norm(residual_seidel)\n",
    "conj_res_norm = get_residual_norm(residual_conjgrad)\n",
    "preconj_res_norm = get_residual_norm(residual_preconjgrad)\n",
    "\n",
    "plt.plot(range(0, len(jac_res_norm)), jac_res_norm, label=\"residual jacobi\")\n",
    "plt.plot(range(0, len(sei_res_norm)), sei_res_norm, label=\"residual seidel\")\n",
    "plt.plot(range(0, len(conj_res_norm)), conj_res_norm, label=\"residual conjgrad\")\n",
    "plt.plot(range(0, len(preconj_res_norm)), preconj_res_norm, label=\"residual preconjgrad\")\n",
    "plt.xlabel(\"Iteration number\")\n",
    "plt.legend(loc=\"best\")\n",
    "plt.show()"
   ]
  },
  {
   "cell_type": "markdown",
   "metadata": {},
   "source": [
    "## Выводы\n",
    "\n",
    "Судя из графиков отклонений значений, можно сделать вывод, что переобусловленный метод сопряженных градиентов сходится быстрее. Это видно по отклонения на второй итерации. "
   ]
  },
  {
   "cell_type": "markdown",
   "metadata": {},
   "source": [
    "## Задание 3"
   ]
  },
  {
   "cell_type": "code",
   "execution_count": 25,
   "metadata": {},
   "outputs": [],
   "source": [
    "H = np.array([[1 , 1/2, 1/3],\n",
    "              [1/2, 1/3, 1/4], \n",
    "              [1/3, 1/4, 1/5]])\n",
    "E = np.array([[1, 0, 0],\n",
    "              [0, 1, 0],\n",
    "              [0, 0, 1]])\n",
    "x0 = np.array([10, 10, 10])"
   ]
  },
  {
   "cell_type": "code",
   "execution_count": 26,
   "metadata": {},
   "outputs": [
    {
     "name": "stdout",
     "output_type": "stream",
     "text": [
      "The first inversed:\n",
      "[[   8.9990104   -35.9990058    29.99900991]\n",
      " [ -35.99494945  191.99492597 -179.99494694]\n",
      " [  29.99533614 -179.99531446  179.99533382]]\n",
      "The second inversed:\n",
      "[[1.00507082 0.50511833 0.33838164]\n",
      " [0.50320586 0.33658399 0.25321062]\n",
      " [0.3357157  0.25240847 0.20237666]]\n",
      "Norm of inversion = 0.01077746233959287\n"
     ]
    }
   ],
   "source": [
    "def get_inv(A, E, x0, eps):\n",
    "    inv = np.zeros((len(A), len(A)))\n",
    "    for i in range(len(A)):\n",
    "        inv[:, i] = seidel(A, E[i], x0, eps)[-1]\n",
    "    return inv\n",
    "\n",
    "inv_H = get_inv(H, E, x0, 10 ** -4)\n",
    "inv_inv_H = get_inv(inv_H, E, x0, 10 ** -4)\n",
    "\n",
    "print(\"The first inversed:\")\n",
    "print(inv_H)\n",
    "print(\"The second inversed:\")\n",
    "print(inv_inv_H)\n",
    "\n",
    "norm = get_norm_of_matrix(H - inv_inv_H)\n",
    "print(f\"Norm of inversion = {norm}\")"
   ]
  },
  {
   "cell_type": "code",
   "execution_count": 27,
   "metadata": {},
   "outputs": [
    {
     "data": {
      "text/plain": [
       "array([[3, 6, 9],\n",
       "       [2, 5, 8],\n",
       "       [1, 4, 7]])"
      ]
     },
     "execution_count": 27,
     "metadata": {},
     "output_type": "execute_result"
    }
   ],
   "source": [
    "A = np.array([[1, 4, 7],\n",
    "              [2, 5, 8], \n",
    "              [3, 6, 9]])\n",
    "P = np.array([[0, 0, 1],\n",
    "              [0, 1, 0],\n",
    "              [1, 0, 0]])\n",
    "P.dot(A)"
   ]
  },
  {
   "cell_type": "code",
   "execution_count": null,
   "metadata": {},
   "outputs": [],
   "source": []
  }
 ],
 "metadata": {
  "kernelspec": {
   "display_name": "Python 3",
   "language": "python",
   "name": "python3"
  },
  "language_info": {
   "codemirror_mode": {
    "name": "ipython",
    "version": 3
   },
   "file_extension": ".py",
   "mimetype": "text/x-python",
   "name": "python",
   "nbconvert_exporter": "python",
   "pygments_lexer": "ipython3",
   "version": "3.6.8"
  }
 },
 "nbformat": 4,
 "nbformat_minor": 4
}
