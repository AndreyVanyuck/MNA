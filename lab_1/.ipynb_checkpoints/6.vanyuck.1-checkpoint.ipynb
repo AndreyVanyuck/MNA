{
 "cells": [
  {
   "cell_type": "markdown",
   "metadata": {},
   "source": [
    "### Задание 1.\n",
    "Задано уравнение.\n",
    "    $$f(x)=x-2e^{-x}, x \\in R$$\n",
    "    \n",
    "**А.**  Определить корни уравнения\n",
    "\n",
    "   **1) используя метод биссекции, a=0 и b=1, выполнив 3 итерации**\n",
    "    \n",
    "    "
   ]
  },
  {
   "cell_type": "code",
   "execution_count": 1,
   "metadata": {},
   "outputs": [],
   "source": [
    "import math\n",
    "import matplotlib.pyplot as plot\n",
    "import matplotlib.pyplot as plt\n",
    "import numpy as np\n",
    "import copy"
   ]
  },
  {
   "cell_type": "code",
   "execution_count": 2,
   "metadata": {},
   "outputs": [],
   "source": [
    "a1, b1 = 0.0, 1.0\n",
    "x1, x2 = 0.0, 1.0\n",
    "x3 = 1.0\n",
    "\n",
    "number_operations = 3\n"
   ]
  },
  {
   "cell_type": "code",
   "execution_count": 3,
   "metadata": {},
   "outputs": [],
   "source": [
    "def f(x):\n",
    "    return x - 2 * math.exp(-x)\n",
    "\n",
    "def df(x):\n",
    "    return 1 + 2 * math.exp(-x)"
   ]
  },
  {
   "cell_type": "code",
   "execution_count": 5,
   "metadata": {},
   "outputs": [
    {
     "name": "stdout",
     "output_type": "stream",
     "text": [
      "0.04127596064298322\n"
     ]
    },
    {
     "data": {
      "text/plain": [
       "0.875"
      ]
     },
     "execution_count": 5,
     "metadata": {},
     "output_type": "execute_result"
    }
   ],
   "source": [
    "def bisection_method(a, b):\n",
    "    x = (a + b) / 2\n",
    "    i = 0\n",
    "    while i < number_operations:\n",
    "        x = (a + b) / 2\n",
    "        a, b = (a, x) if f(a) * f(x) < 0 else (x, b)\n",
    "        i += 1\n",
    "    print(f(x))\n",
    "    return x\n",
    "\n",
    "bisection_method(a1, b1)"
   ]
  },
  {
   "cell_type": "markdown",
   "metadata": {},
   "source": [
    "                                Результат метода бисекции: 0.875 "
   ]
  },
  {
   "cell_type": "markdown",
   "metadata": {},
   "source": [
    "   **2) используя метод хорд, начальные условия начальные условия x1=0 , x2=1, выполнив три итерации**"
   ]
  },
  {
   "cell_type": "code",
   "execution_count": 7,
   "metadata": {},
   "outputs": [
    {
     "name": "stdout",
     "output_type": "stream",
     "text": [
      "-8.394087882546142e-05\n"
     ]
    },
    {
     "data": {
      "text/plain": [
       "0.8525601928512754"
      ]
     },
     "execution_count": 7,
     "metadata": {},
     "output_type": "execute_result"
    }
   ],
   "source": [
    "def chord_method(x, x_prev):\n",
    "    i = 0\n",
    "    while i < number_operations:\n",
    "        x, x_prev = x - f(x) / (f(x) - f(x_prev)) * (x - x_prev), x\n",
    "        i += 1\n",
    "    print(f(x))\n",
    "    return x\n",
    "\n",
    "chord_method(x1, x2)"
   ]
  },
  {
   "cell_type": "markdown",
   "metadata": {},
   "source": [
    "                             Результат метода хорд: 0.8525601928512754 "
   ]
  },
  {
   "cell_type": "markdown",
   "metadata": {},
   "source": [
    "   **3) используя метод Ньютона, начальное условие x3=1, выполнив три итерации**\n",
    "   "
   ]
  },
  {
   "cell_type": "code",
   "execution_count": 8,
   "metadata": {},
   "outputs": [
    {
     "name": "stdout",
     "output_type": "stream",
     "text": [
      "-1.2404299809531949e-11\n"
     ]
    },
    {
     "data": {
      "text/plain": [
       "0.8526055020070299"
      ]
     },
     "execution_count": 8,
     "metadata": {},
     "output_type": "execute_result"
    }
   ],
   "source": [
    "def newtons_method(x):\n",
    "    i = 0\n",
    "    while i < number_operations:\n",
    "        x = x - f(x)/df(x)\n",
    "        i += 1\n",
    "    print(f(x))\n",
    "    return x\n",
    "\n",
    "newtons_method(x3)"
   ]
  },
  {
   "cell_type": "markdown",
   "metadata": {},
   "source": [
    "                           Результат метода Ньютона: 0.8526055020070299\n",
    "**B.** Метод Стеффенсена"
   ]
  },
  {
   "cell_type": "markdown",
   "metadata": {},
   "source": [
    "   **Напишите в MATLAB функцию для решения нелинейного уравнения методом Стеффенсена.**"
   ]
  },
  {
   "cell_type": "markdown",
   "metadata": {},
   "source": [
    "```javascript\n",
    "function Xs = SteffensenRoot(Fun, Xest);\n",
    "    y = Fun(Xest);\n",
    "    Xs = Xest - y * y / (Fun(Xest + y) - y);\n",
    "endfunction\n",
    "```\n",
    "\n"
   ]
  },
  {
   "cell_type": "markdown",
   "metadata": {},
   "source": [
    "**C.** Используйте `SteffensenRoot` для решения уравнения.\n"
   ]
  },
  {
   "cell_type": "markdown",
   "metadata": {},
   "source": [
    "```javascript\n",
    "function y = f(x);\n",
    "    y = x - 2 * exp(-x);\n",
    "endfunction\n",
    "\n",
    "ans = SteffensenRoot(f, 2)\n",
    "i = 0\n",
    "\n",
    "while abs(f(ans)) > 10 ^ (-6)\n",
    "    if i > 100 then\n",
    "        disp(\"Error : can't reach accuracy!\");\n",
    "    end\n",
    "    ans = SteffensenRoot(f, ans);\n",
    "    i = i + 1;\n",
    "end\n",
    "\n",
    "disp(ans);\n",
    "```\n",
    "\n",
    "                            Результат метода Стеффенсена (Scilab): 0.8526055"
   ]
  },
  {
   "cell_type": "markdown",
   "metadata": {},
   "source": [
    "**D.** Сравните по точности полученное решение с решением, полученным при использовании языка программирования Python."
   ]
  },
  {
   "cell_type": "code",
   "execution_count": 9,
   "metadata": {},
   "outputs": [
    {
     "data": {
      "text/plain": [
       "0.8526054936037544"
      ]
     },
     "execution_count": 9,
     "metadata": {},
     "output_type": "execute_result"
    }
   ],
   "source": [
    "def steffensen_root(x):\n",
    "    i = 0\n",
    "    while abs(f(x)) > 10 ** (-6):\n",
    "        if i > 100:\n",
    "            print(\"Error : can't reach accuracy!\")\n",
    "            return\n",
    "        x = x - f(x) ** 2 / (f(x + f(x)) - f(x))\n",
    "        i += 1\n",
    "    return x\n",
    "\n",
    "steffensen_root(1)   "
   ]
  },
  {
   "cell_type": "markdown",
   "metadata": {},
   "source": [
    "                            Результат метода Стеффенсена(Python): 0.8526054936037544"
   ]
  },
  {
   "cell_type": "markdown",
   "metadata": {},
   "source": [
    "### **Задание 2.**\n"
   ]
  },
  {
   "cell_type": "code",
   "execution_count": 10,
   "metadata": {},
   "outputs": [],
   "source": [
    "def my_plot(Tc, Th, Jc, Jh, num_operations):\n",
    "    i = 0\n",
    "    while i < num_operations:\n",
    "        Tc[i] = Tc[i] - 481\n",
    "        Th[i] = Th[i] - 671\n",
    "        Jc[i] = Jc[i] - 6222\n",
    "        Jh[i] = Jh[i] - 10504\n",
    "        i += 1\n",
    "\n",
    "    plot.plot(range(0, len(Tc)), Tc)\n",
    "    plot.show()  \n",
    "    plot.plot(range(0, len(Th)), Th)\n",
    "    plot.show() \n",
    "    plot.plot(range(0, len(Jc)), Jc)\n",
    "    plot.show()\n",
    "    plot.plot(range(0, len(Jh)), Jh)\n",
    "    plot.show() \n",
    "        "
   ]
  },
  {
   "cell_type": "code",
   "execution_count": 11,
   "metadata": {},
   "outputs": [
    {
     "name": "stdout",
     "output_type": "stream",
     "text": [
      "481.0272546990047 671.1239779386548 6222.2250824538205 10504.194933130066\n"
     ]
    },
    {
     "data": {
      "image/png": "[encoded data removed]",
      "text/plain": [
       "<Figure size 432x288 with 1 Axes>"
      ]
     },
     "metadata": {
      "needs_background": "light"
     },
     "output_type": "display_data"
    },
    {
     "data": {
      "image/png": "[encoded data removed]",
      "text/plain": [
       "<Figure size 432x288 with 1 Axes>"
      ]
     },
     "metadata": {
      "needs_background": "light"
     },
     "output_type": "display_data"
    },
    {
     "data": {
      "image/png": "[encoded data removed]",
      "text/plain": [
       "<Figure size 432x288 with 1 Axes>"
      ]
     },
     "metadata": {
      "needs_background": "light"
     },
     "output_type": "display_data"
    },
    {
     "data": {
      "image/png": "[encoded data removed]",
      "text/plain": [
       "<Figure size 432x288 with 1 Axes>"
      ]
     },
     "metadata": {
      "needs_background": "light"
     },
     "output_type": "display_data"
    }
   ],
   "source": [
    "def system_solve(Tc, Th, Jc, Jh, num_operations):\n",
    "    i = 0\n",
    "    while i < num_operations:\n",
    "        Tc.append(((Jc[i] - 17.41 * Tc[i] + 5188.18) / 5.67e-8) ** (1/4))\n",
    "        Th.append(((2250 + Jh[i] - 1.865 * Th[i]) / 5.67e-8) ** (1/4))\n",
    "        Jc.append(2352.71 + 0.71 * Jh[i] - 7.46 * Tc[i])\n",
    "        Jh.append(11093 + 0.71 * Jc[i] - 7.46 * Th[i])\n",
    "        i += 1\n",
    "    print(Tc[-1], Th[-1], Jc[-1], Jh[-1])\n",
    "    my_plot(Tc, Th, Jc, Jh, num_operations + 1)\n",
    "\n",
    "Tc = [298]\n",
    "Th = [298]\n",
    "Jc = [3000]\n",
    "Jh = [5000]\n",
    "system_solve(Tc, Th, Jc, Jh, 100)\n",
    "\n"
   ]
  },
  {
   "cell_type": "markdown",
   "metadata": {},
   "source": [
    "Можно сделать вывод, что данные итерационные функции сходится на первых 20-30 итерациях, следовательно можно уменьшить их число."
   ]
  },
  {
   "cell_type": "code",
   "execution_count": null,
   "metadata": {},
   "outputs": [],
   "source": [
    "\n"
   ]
  },
  {
   "cell_type": "markdown",
   "metadata": {},
   "source": [
    "### **Задание 3.**"
   ]
  },
  {
   "cell_type": "markdown",
   "metadata": {},
   "source": [
    "```javascript\n",
    "function err = errMax(a, b, prev_a, prev_b)\n",
    "err = abs(((a + b) / 2 - (prev_a + prev_b) / 2) /  (prev_a + prev_b) / 2);\n",
    "endfunction\n",
    "\n",
    "function ans = bisecfalsi(func, a, b, err)\n",
    "    x_list = list();\n",
    "    a_list = list(a);\n",
    "    b_list = list(b);\n",
    "    c = (b - a) / 2;\n",
    "    x_list($ + 1) = c;\n",
    "\n",
    "    if func(c) * func(a) < 0 then\n",
    "        a_list($ + 1) = a;\n",
    "        b_list($ + 1) = c;\n",
    "    else\n",
    "        a_list($ + 1) = c;\n",
    "        b_list($ + 1) = b;\n",
    "    end    \n",
    "\n",
    "    i = 1;\n",
    "\n",
    "    while errMax(a_list($), b_list($), a_list($ - 1), b_list($ - 1))   > err & i < 100 do\n",
    "        \n",
    "        c = (b_list($) - a_list($)) / 2;\n",
    "\n",
    "        // формула регула фалс\n",
    "        reg = (func(a_list($)) * b_list($) - func(b_list($)) * a_list($)) / (func(a_list($)) - func(b_list($)));\n",
    "\n",
    "        if abs(func(c)) < abs(func(reg)) then\n",
    "            x_list($ + 1) = c;\n",
    "        else\n",
    "            x_list($ + 1) = reg;\n",
    "        end\n",
    "        \n",
    "        if func(x_list($)) * func(a_list($)) < 0 then\n",
    "            a_list($ + 1) = a_list($);\n",
    "            b_list($ + 1) = x_list($);\n",
    "        else\n",
    "            a_list($ + 1) = x_list($);\n",
    "            b_list($ + 1) = b_list($);\n",
    "        end\n",
    "        i = i + 1;\n",
    "    end    \n",
    "    if i >= 100 then \n",
    "        disp(\"Невозможно достичь требуемой точности, возможно решение находится вне интервала\");\n",
    "    end\n",
    "    ans = x_list;\n",
    "endfunction\n",
    "```"
   ]
  },
  {
   "cell_type": "code",
   "execution_count": 1,
   "metadata": {},
   "outputs": [],
   "source": [
    "def f(x):\n",
    "    return 3 * x ** 2 + 2000 * x - 2000\n",
    "\n",
    "def errMax(a, b, prev_a, prev_b):\n",
    "    x_ns = (a + b) / 2\n",
    "    x_prev_ns = (prev_a + prev_b) / 2 \n",
    "    return abs((x_ns - x_prev_ns) / x_prev_ns)\n",
    "\n",
    "def bisec_falsi(f, a, b, err):\n",
    "    c = (b - a) / 2\n",
    "    x = c\n",
    "    prev_a = a\n",
    "    prev_b = b\n",
    "    a, b = (a, c) if f(c) * f(a) < 0 else (c, b)\n",
    "    i = 1;\n",
    "    while errMax(a, b, prev_a, prev_b) > err and i < 100:\n",
    "        c = (b - a) / 2;\n",
    "        reg = (f(a) * b - f(b) * a) / (f(a) - f(b))         # формула регула фалс\n",
    "        x = c if abs(f(c)) < abs(f(reg)) else reg\n",
    "        prev_a = a\n",
    "        prev_b = b\n",
    "        a, b = (a, x) if f(x) * f(a) < 0 else (x, b)    \n",
    "        i += 1    \n",
    "    if i > 100: \n",
    "        print('Невозможно достичь требуемой точности, возможно решение находится вне интервала')\n",
    "    return x   "
   ]
  },
  {
   "cell_type": "markdown",
   "metadata": {},
   "source": [
    "**B.** Применим полученный метод для решения практической задачи.\n",
    "\n",
    "Ракета летит со скоростью $4 \\frac{км}{с}$. Затем она движется с постоянным ускорением $ a = 3 \\frac{m}{c^2}$ в течение $1000$ cекунд и в последние $t_1$ секунд проходит путь $1$ км. Определить время $t_1$.\n",
    "\n",
    "![Picture for task](https://sun9-71.userapi.com/c857636/v857636598/189f19/i-Aafp2oGco.jpg)\n",
    "\n",
    "Путь за последние $t_1$ секунд можно определить, отняв из пути за полное время $t$ путь за время $(t–t_1)$. \n",
    "$S_1=S(t)–S(t–t_1)$ \n",
    "\n",
    "Движение тела является равнозамедленным, поэтому запишем соответствующие уравнения движения:\n",
    "\n",
    "$$S(t)=υ_0t– \\frac {at^2}{2}$$\n",
    "\n",
    "$$S(t–t_1)=υ_0(t–t_1)– \\frac {a(t–t_1)^2}{2}$$           \n",
    "\n",
    "Подставим выражения и раскроем скобки. \n",
    "\n",
    "$$S_1=υ_0t_1–att_1+ \\frac {at_1^2}{2}$$\n",
    "\n",
    "$$ at_1^2 + t_1(2υ_0-2at) -2S_1 =0 $$\n",
    "\n",
    "В итоге: $$ 3t_1^2 + 2000t_1 -2000 =0 $$\n",
    "\n",
    "\n",
    "Применим полученный метод для решения задачи \n",
    "```javascript\n",
    "function y = f(x)\n",
    "    y = 3*x^2 + 2000 * x - 2000;\n",
    "endfunction\n",
    "\n",
    "x_list = bisecfalsi(f, 0, 20, 10^-8)\n",
    "disp(x_list($))\n",
    "```\n",
    "\n",
    "![solution](https://sun9-34.userapi.com/c853424/v853424073/2031af/k7LHSjtThkE.jpg)\n",
    "![solution](https://sun1.dataix-by-minsk.userapi.com/c853424/v853424073/2031b6/1VXLKhvolcI.jpg)"
   ]
  },
  {
   "cell_type": "code",
   "execution_count": 2,
   "metadata": {},
   "outputs": [
    {
     "data": {
      "text/plain": [
       "0.9985044827820375"
      ]
     },
     "execution_count": 2,
     "metadata": {},
     "output_type": "execute_result"
    }
   ],
   "source": [
    "bisec_falsi(f, 0, 20, 10 ** -8)  \n"
   ]
  },
  {
   "cell_type": "markdown",
   "metadata": {},
   "source": [
    "### **Задание 4.**\n",
    "Решить численным методом уравнение \n",
    "$$2x^3 - 4x^2 - 4x - 20 = 0, x \\in [3, 4]$$\n",
    "\n",
    "Применим метод Ньютона по нескольким причинам:\n",
    "1. Он имеет квадратическую сходимость\n",
    "2. У данной функции легко вычислить производную"
   ]
  },
  {
   "cell_type": "code",
   "execution_count": 3,
   "metadata": {},
   "outputs": [],
   "source": [
    "def f(x):\n",
    "    return 2*x**3 - 4*x**2 - 4*x - 20\n",
    "\n",
    "def df(x):\n",
    "    return 6*x**2 - 8*x - 4"
   ]
  },
  {
   "cell_type": "code",
   "execution_count": 4,
   "metadata": {},
   "outputs": [
    {
     "data": {
      "text/plain": [
       "3.4318475224198943"
      ]
     },
     "execution_count": 4,
     "metadata": {},
     "output_type": "execute_result"
    }
   ],
   "source": [
    "def newtons_method(x, num_operations):\n",
    "    i = 0\n",
    "    while i < num_operations:\n",
    "        x = x - f(x)/df(x)\n",
    "        i += 1\n",
    "    return x\n",
    "\n",
    "newtons_method(4, 100)\n"
   ]
  },
  {
   "cell_type": "markdown",
   "metadata": {},
   "source": [
    "**Решение в Scilab**"
   ]
  },
  {
   "cell_type": "markdown",
   "metadata": {},
   "source": [
    "\n",
    "![Scilab Roots](https://sun9-24.userapi.com/c853424/v853424585/207a2e/ndpTnAflbK4.jpg)"
   ]
  },
  {
   "cell_type": "markdown",
   "metadata": {},
   "source": [
    "### **Задание 5.**\n",
    "*Вариант 4*. $f(x)=xe^x\n",
    "-2 =0$"
   ]
  },
  {
   "cell_type": "code",
   "execution_count": 5,
   "metadata": {},
   "outputs": [],
   "source": [
    "def MyFunction(x):\n",
    "    return x * math.exp(x) - 2\n",
    "def MyDerivative(x):\n",
    "    return x * math.exp(x) + math.exp(x)"
   ]
  },
  {
   "cell_type": "code",
   "execution_count": 6,
   "metadata": {},
   "outputs": [
    {
     "ename": "NameError",
     "evalue": "name 'math' is not defined",
     "output_type": "error",
     "traceback": [
      "\u001b[0;31m---------------------------------------------------------------------------\u001b[0m",
      "\u001b[0;31mNameError\u001b[0m                                 Traceback (most recent call last)",
      "\u001b[0;32m<ipython-input-6-b55a780ff132>\u001b[0m in \u001b[0;36m<module>\u001b[0;34m\u001b[0m\n\u001b[1;32m     11\u001b[0m \u001b[0;34m\u001b[0m\u001b[0m\n\u001b[1;32m     12\u001b[0m \u001b[0my_data\u001b[0m \u001b[0;34m=\u001b[0m \u001b[0;34m[\u001b[0m\u001b[0;34m]\u001b[0m\u001b[0;34m\u001b[0m\u001b[0;34m\u001b[0m\u001b[0m\n\u001b[0;32m---> 13\u001b[0;31m \u001b[0miteration\u001b[0m\u001b[0;34m(\u001b[0m\u001b[0mMyFunction\u001b[0m\u001b[0;34m,\u001b[0m \u001b[0mMyDerivative\u001b[0m\u001b[0;34m,\u001b[0m \u001b[0;36m2\u001b[0m\u001b[0;34m,\u001b[0m \u001b[0my_data\u001b[0m\u001b[0;34m)\u001b[0m\u001b[0;34m\u001b[0m\u001b[0;34m\u001b[0m\u001b[0m\n\u001b[0m\u001b[1;32m     14\u001b[0m \u001b[0;34m\u001b[0m\u001b[0m\n\u001b[1;32m     15\u001b[0m \u001b[0my_data\u001b[0m \u001b[0;34m=\u001b[0m \u001b[0;34m[\u001b[0m\u001b[0;34m]\u001b[0m\u001b[0;34m\u001b[0m\u001b[0;34m\u001b[0m\u001b[0m\n",
      "\u001b[0;32m<ipython-input-6-b55a780ff132>\u001b[0m in \u001b[0;36miteration\u001b[0;34m(f, df, x0, y_data)\u001b[0m\n\u001b[1;32m      1\u001b[0m \u001b[0;32mdef\u001b[0m \u001b[0miteration\u001b[0m\u001b[0;34m(\u001b[0m\u001b[0mf\u001b[0m\u001b[0;34m,\u001b[0m \u001b[0mdf\u001b[0m\u001b[0;34m,\u001b[0m \u001b[0mx0\u001b[0m\u001b[0;34m,\u001b[0m \u001b[0my_data\u001b[0m\u001b[0;34m)\u001b[0m\u001b[0;34m:\u001b[0m\u001b[0;34m\u001b[0m\u001b[0;34m\u001b[0m\u001b[0m\n\u001b[0;32m----> 2\u001b[0;31m     \u001b[0mcoeff\u001b[0m \u001b[0;34m=\u001b[0m \u001b[0;36m1\u001b[0m \u001b[0;34m/\u001b[0m \u001b[0mdf\u001b[0m\u001b[0;34m(\u001b[0m\u001b[0mx0\u001b[0m\u001b[0;34m)\u001b[0m\u001b[0;34m\u001b[0m\u001b[0;34m\u001b[0m\u001b[0m\n\u001b[0m\u001b[1;32m      3\u001b[0m     \u001b[0mi\u001b[0m \u001b[0;34m=\u001b[0m \u001b[0;36m0\u001b[0m\u001b[0;34m\u001b[0m\u001b[0;34m\u001b[0m\u001b[0m\n\u001b[1;32m      4\u001b[0m     \u001b[0mx\u001b[0m \u001b[0;34m=\u001b[0m \u001b[0mx0\u001b[0m\u001b[0;34m\u001b[0m\u001b[0;34m\u001b[0m\u001b[0m\n\u001b[1;32m      5\u001b[0m     \u001b[0my_data\u001b[0m\u001b[0;34m.\u001b[0m\u001b[0mappend\u001b[0m\u001b[0;34m(\u001b[0m\u001b[0mf\u001b[0m\u001b[0;34m(\u001b[0m\u001b[0mx\u001b[0m\u001b[0;34m)\u001b[0m\u001b[0;34m)\u001b[0m\u001b[0;34m\u001b[0m\u001b[0;34m\u001b[0m\u001b[0m\n",
      "\u001b[0;32m<ipython-input-5-7557bf1f678a>\u001b[0m in \u001b[0;36mMyDerivative\u001b[0;34m(x)\u001b[0m\n\u001b[1;32m      2\u001b[0m     \u001b[0;32mreturn\u001b[0m \u001b[0mx\u001b[0m \u001b[0;34m*\u001b[0m \u001b[0mmath\u001b[0m\u001b[0;34m.\u001b[0m\u001b[0mexp\u001b[0m\u001b[0;34m(\u001b[0m\u001b[0mx\u001b[0m\u001b[0;34m)\u001b[0m \u001b[0;34m-\u001b[0m \u001b[0;36m2\u001b[0m\u001b[0;34m\u001b[0m\u001b[0;34m\u001b[0m\u001b[0m\n\u001b[1;32m      3\u001b[0m \u001b[0;32mdef\u001b[0m \u001b[0mMyDerivative\u001b[0m\u001b[0;34m(\u001b[0m\u001b[0mx\u001b[0m\u001b[0;34m)\u001b[0m\u001b[0;34m:\u001b[0m\u001b[0;34m\u001b[0m\u001b[0;34m\u001b[0m\u001b[0m\n\u001b[0;32m----> 4\u001b[0;31m     \u001b[0;32mreturn\u001b[0m \u001b[0mx\u001b[0m \u001b[0;34m*\u001b[0m \u001b[0mmath\u001b[0m\u001b[0;34m.\u001b[0m\u001b[0mexp\u001b[0m\u001b[0;34m(\u001b[0m\u001b[0mx\u001b[0m\u001b[0;34m)\u001b[0m \u001b[0;34m+\u001b[0m \u001b[0mmath\u001b[0m\u001b[0;34m.\u001b[0m\u001b[0mexp\u001b[0m\u001b[0;34m(\u001b[0m\u001b[0mx\u001b[0m\u001b[0;34m)\u001b[0m\u001b[0;34m\u001b[0m\u001b[0;34m\u001b[0m\u001b[0m\n\u001b[0m",
      "\u001b[0;31mNameError\u001b[0m: name 'math' is not defined"
     ]
    }
   ],
   "source": [
    "def iteration(f, df, x0, y_data):\n",
    "    coeff = 1 / df(x0)\n",
    "    i = 0\n",
    "    x = x0\n",
    "    y_data.append(f(x))\n",
    "    while abs(f(x)) > 10 ** (-6) and i < 100:\n",
    "        x = x - coeff *f(x)\n",
    "        y_data.append(f(x))\n",
    "        i += 1\n",
    "    return x\n",
    "\n",
    "y_data = []\n",
    "iteration(MyFunction, MyDerivative, 2, y_data)\n",
    "\n",
    "y_data = []\n",
    "print(\"x = 0.5 , result is\", iteration(MyFunction, MyDerivative, 0.5 , y_data))\n",
    "plt.plot(range(0, len(y_data)), y_data, label=\"x=0.5\")\n",
    "\n",
    "y_data = []\n",
    "print(\"x = 1 , result is\", iteration(MyFunction, MyDerivative, 1, y_data))\n",
    "plt.plot(range(0, len(y_data)), y_data, label=\"x=1\")\n",
    "\n",
    "\n",
    "plt.xlabel(\"Iteration number\")\n",
    "plt.ylabel(\"f(x)\")\n",
    "plt.legend(loc=\"best\")\n",
    "plt.show()"
   ]
  },
  {
   "cell_type": "code",
   "execution_count": null,
   "metadata": {
    "scrolled": true
   },
   "outputs": [],
   "source": [
    "def MyNewton(f, df, x, y_data):\n",
    "    i = 0\n",
    "    while abs(f(x)) > 10 ** (-6) and i < 100:\n",
    "        x = x - f(x)/df(x)\n",
    "        y_data.append(f(x))\n",
    "        i += 1\n",
    "    return x\n",
    "\n",
    "y_data = []\n",
    "MyNewton(MyFunction, MyDerivative, 2, y_data)\n",
    "\n",
    "y_data = []\n",
    "print(\"x = 0.5, result is\", MyNewton(MyFunction, MyDerivative, 0.5 , y_data))\n",
    "plt.plot(range(0, len(y_data)), y_data, label=\"x=0.5\")\n",
    "\n",
    "y_data = []\n",
    "print(\"x = 1, result is\", MyNewton(MyFunction, MyDerivative, 1, y_data))\n",
    "plt.plot(range(0, len(y_data)), y_data, label=\"x=1\")\n",
    "\n",
    "\n",
    "plt.xlabel(\"Iteration number\")\n",
    "plt.ylabel(\"f(x)\")\n",
    "plt.legend(loc=\"best\")\n",
    "plt.show()"
   ]
  },
  {
   "cell_type": "markdown",
   "metadata": {},
   "source": [
    "### **Задание 6.**\n",
    "*Вариант 4.* Решить систему нелинейных уравнений \n",
    "$$\n",
    "\\begin{align*}\n",
    "  & \\sin(x+y) - 1.2x = 0.2 \\\\\n",
    "  & x^2 + y^2 = 1 \\\\\n",
    "\\end{align*}\n",
    "$$"
   ]
  },
  {
   "cell_type": "code",
   "execution_count": 13,
   "metadata": {},
   "outputs": [],
   "source": [
    "def f1(x, y):\n",
    "    return np.sin(x + y)- 1.2 * x - 0.2\n",
    "def f2(x, y):\n",
    "    return x ** 2 + y ** 2 - 1\n",
    "\n",
    "Jac = np.array([[lambda x, y: np.cos(x + y) - 1.2, lambda x, y: np.cos(x + y)],\n",
    "                [lambda x, y: 2 * x              , lambda x, y: 2 * y        ]])\n",
    "\n",
    "eps = 10 ** -8\n",
    "num_oper = 100\n",
    "x0 = -1\n",
    "y0 = 4\n"
   ]
  },
  {
   "cell_type": "code",
   "execution_count": 7,
   "metadata": {},
   "outputs": [],
   "source": [
    "def system_newton_method(x0, y0, eps, num_oper):    \n",
    "    i = 0\n",
    "    x = x0\n",
    "    y = y0\n",
    "    while i < num_oper:\n",
    "        J = []\n",
    "        for row_1 in Jac:\n",
    "            row_2 = []\n",
    "            for func in row_1:\n",
    "                row_2.append(func(x, y))\n",
    "            J.append(row_2)\n",
    "\n",
    "        J = np.array(J)\n",
    "        F = np.array([f1(x, y), f2(x, y)])\n",
    "        \n",
    "        #x_k+1 = x_k - J^-1 * F\n",
    "        #delta x = - J^-1 * F\n",
    "        # J * delta x = - J * J^-1 * F \n",
    "        # J * delta x = -F\n",
    "        \n",
    "        delta = np.linalg.solve(J, -F)\n",
    "\n",
    "        x += delta[0]\n",
    "        y += delta[1]\n",
    "\n",
    "        if abs(max(delta ,key=abs)) < eps:\n",
    "            break\n",
    "        i += 1\n",
    "    return x, y"
   ]
  },
  {
   "cell_type": "code",
   "execution_count": 19,
   "metadata": {},
   "outputs": [
    {
     "name": "stdout",
     "output_type": "stream",
     "text": [
      "x=0.6560183495545779 y=0.7547449403922412 f1= 5.551115123125783e-17 f2 = 0.0\n"
     ]
    }
   ],
   "source": [
    "ans = system_newton_method(x0,y0, eps, num_oper)\n",
    "print(f'x={ans[0]} y={ans[1]} f1= {f1(ans[0],ans[1])} f2 = {f2(ans[0], ans[1])}')"
   ]
  },
  {
   "cell_type": "code",
   "execution_count": null,
   "metadata": {},
   "outputs": [],
   "source": []
  }
 ],
 "metadata": {
  "kernelspec": {
   "display_name": "Python 3",
   "language": "python",
   "name": "python3"
  },
  "language_info": {
   "codemirror_mode": {
    "name": "ipython",
    "version": 3
   },
   "file_extension": ".py",
   "mimetype": "text/x-python",
   "name": "python",
   "nbconvert_exporter": "python",
   "pygments_lexer": "ipython3",
   "version": "3.6.8"
  }
 },
 "nbformat": 4,
 "nbformat_minor": 4
}
