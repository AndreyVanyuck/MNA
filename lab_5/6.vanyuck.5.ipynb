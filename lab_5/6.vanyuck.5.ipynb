{
 "cells": [
  {
   "cell_type": "markdown",
   "metadata": {},
   "source": [
    "## Задание 1. \n",
    "Для заданных на отрезке $[x_0, x_1]$ функций f(x)  используйте три различных метода дифференцироавния для оценки f'(0.25), f'(0.51), f''(0.99), f''(1.09), f'''(1.89) и f'''(2.39). Сравните результаты по абсолютной\n",
    "ошибке. "
   ]
  },
  {
   "cell_type": "code",
   "execution_count": 112,
   "metadata": {},
   "outputs": [],
   "source": [
    "import math\n",
    "import matplotlib.pyplot as plt\n",
    "from scipy import interpolate\n",
    "import numpy as np\n",
    "import pandas as pd"
   ]
  },
  {
   "cell_type": "code",
   "execution_count": 113,
   "metadata": {},
   "outputs": [],
   "source": [
    "def right_diff_method(f, x, dx, n) :\n",
    "    if n <= 1 :\n",
    "        return (f(x + dx) - f(x)) / dx\n",
    "    return (right_diff_method(f,x + dx, dx, n - 1) - right_diff_method(f,x, dx, n - 1)) / dx\n",
    "\n",
    "def left_diff_method(f,x, dx, n) :\n",
    "    if n <= 1 :\n",
    "        return (f(x) - f(x - dx)) / dx\n",
    "    return (left_diff_method(f, x, dx, n - 1) - left_diff_method(f,x - dx, dx, n - 1)) / dx\n",
    "\n",
    "def diff_method(f, x, dx, n) :\n",
    "    if n <= 1 :\n",
    "        return (f(x + dx) - f(x - dx)) / (2 * dx)\n",
    "    return (diff_method(f, x + dx, dx, n - 1) - diff_method(f,x - dx, dx, n - 1)) / 2 / dx\n",
    "\n",
    "def f1(x):\n",
    "    return math.exp(2 * x) * math.cos(3 * x)\n",
    "\n",
    "def f2(x):\n",
    "    return math.sin(math.log(x))\n",
    "\n",
    "def f3(x):\n",
    "     return math.log(x)\n",
    "    \n",
    "def f4(x):\n",
    "    return math.cos(x) + math.sin(x)\n",
    "\n",
    "def output(f):\n",
    "    diffs = {0.25 : 1, 0.51 : 1, 0.99 : 2, 1.09 : 2, 1.89 : 3, 2.39 : 3}\n",
    "    for x in diffs:\n",
    "        print(f'правая производная в точке {x} порядка {diffs[x]} равна: {right_diff_method(f, x, 0.0001, diffs[x])}')\n",
    "        print(f'левая производная в точке {x} порядка {diffs[x]} равна: {left_diff_method(f, x,0.0001, diffs[x])}')\n",
    "        print(f'производная в точке {x} порядка {diffs[x]} равна: {diff_method(f, x, 0.0001, diffs[x])}')\n",
    "        print(\"\\n\")"
   ]
  },
  {
   "cell_type": "code",
   "execution_count": 114,
   "metadata": {},
   "outputs": [
    {
     "name": "stdout",
     "output_type": "stream",
     "text": [
      "правая производная в точке 0.25 порядка 1 равна: -0.9597709609487914\n",
      "левая производная в точке 0.25 порядка 1 равна: -0.9578191866577157\n",
      "производная в точке 0.25 порядка 1 равна: -0.9587950738032536\n",
      "\n",
      "\n",
      "правая производная в точке 0.51 порядка 1 равна: -8.088143242000466\n",
      "левая производная в точке 0.51 порядка 1 равна: -8.08476162486027\n",
      "производная в точке 0.51 порядка 1 равна: -8.086452433430368\n",
      "\n",
      "\n",
      "правая производная в точке 0.99 порядка 2 равна: 20.873063544257775\n",
      "левая производная в точке 0.99 порядка 2 равна: 20.809634992957626\n",
      "производная в точке 0.99 порядка 2 равна: 20.841346737299205\n",
      "\n",
      "\n",
      "правая производная в точке 1.09 порядка 2 равна: 57.50250018365932\n",
      "левая производная в точке 1.09 порядка 2 равна: 57.419745225217866\n",
      "производная в точке 1.09 порядка 2 равна: 57.461120439583624\n",
      "\n",
      "\n",
      "правая производная в точке 1.89 порядка 3 равна: -1422.5420841285086\n",
      "левая производная в точке 1.89 порядка 3 равна: -1420.325190792937\n",
      "производная в точке 1.89 порядка 3 равна: -1421.4069921081318\n",
      "\n",
      "\n",
      "правая производная в точке 2.39 порядка 3 равна: -4292.388666726765\n",
      "левая производная в точке 2.39 порядка 3 равна: -4293.141842026671\n",
      "производная в точке 2.39 порядка 3 равна: -4292.786570658791\n",
      "\n",
      "\n"
     ]
    }
   ],
   "source": [
    "output(f1)"
   ]
  },
  {
   "cell_type": "code",
   "execution_count": 115,
   "metadata": {},
   "outputs": [
    {
     "name": "stdout",
     "output_type": "stream",
     "text": [
      "правая производная в точке 0.25 порядка 1 равна: 0.7344672606912628\n",
      "левая производная в точке 0.25 порядка 1 равна: 0.7331879472549652\n",
      "производная в точке 0.25 порядка 1 равна: 0.733827603973114\n",
      "\n",
      "\n",
      "правая производная в точке 0.51 порядка 1 равна: 1.532793832511592\n",
      "левая производная в точке 0.51 порядка 1 равна: 1.5328546307824542\n",
      "производная в точке 0.51 порядка 1 равна: 1.532824231647023\n",
      "\n",
      "\n",
      "правая производная в точке 0.99 порядка 2 равна: -1.00989834637355\n",
      "левая производная в точке 0.99 порядка 2 равна: -1.0100982434169126\n",
      "производная в точке 0.99 порядка 2 равна: -1.009998294894121\n",
      "\n",
      "\n",
      "правая производная в точке 1.09 порядка 2 равна: -0.9109039467158908\n",
      "левая производная в точке 1.09 порядка 2 равна: -0.9110976889603606\n",
      "производная в точке 1.09 порядка 2 равна: -0.9110008171442363\n",
      "\n",
      "\n",
      "правая производная в точке 1.89 порядка 3 равна: 0.3829159211932165\n",
      "левая производная в точке 1.89 порядка 3 равна: 0.383026943495679\n",
      "производная в точке 1.89 порядка 3 равна: 0.3833044992518353\n",
      "\n",
      "\n",
      "правая производная в точке 2.39 порядка 3 равна: 0.21527224447481785\n",
      "левая производная в точке 2.39 порядка 3 равна: 0.21527224447481785\n",
      "производная в точке 2.39 порядка 3 равна: 0.2153138778382413\n",
      "\n",
      "\n"
     ]
    }
   ],
   "source": [
    "output(f2)"
   ]
  },
  {
   "cell_type": "code",
   "execution_count": 116,
   "metadata": {},
   "outputs": [
    {
     "name": "stdout",
     "output_type": "stream",
     "text": [
      "правая производная в точке 0.25 порядка 1 равна: 3.9992002132693827\n",
      "левая производная в точке 0.25 порядка 1 равна: 4.000800213397326\n",
      "производная в точке 0.25 порядка 1 равна: 4.0000002133333545\n",
      "\n",
      "\n",
      "правая производная в точке 0.51 порядка 1 равна: 1.960592105094694\n",
      "левая производная в точке 0.51 порядка 1 равна: 1.9609765726136263\n",
      "производная в точке 0.51 порядка 1 равна: 1.9607843388541601\n",
      "\n",
      "\n",
      "правая производная в точке 0.99 порядка 2 равна: -1.020097965125366\n",
      "левая производная в точке 0.99 порядка 2 равна: -1.0205102093219232\n",
      "производная в точке 0.99 порядка 2 равна: -1.0203040714384937\n",
      "\n",
      "\n",
      "правая производная в точке 1.09 порядка 2 равна: -0.8415255811633493\n",
      "левая производная в точке 1.09 порядка 2 равна: -0.8418344549232515\n",
      "производная в точке 1.09 порядка 2 равна: -0.8416800079819042\n",
      "\n",
      "\n",
      "правая производная в точке 1.89 порядка 3 равна: 0.2958744360626042\n",
      "левая производная в точке 1.89 порядка 3 равна: 0.29609648066752925\n",
      "производная в точке 1.89 порядка 3 равна: 0.29627689190903084\n",
      "\n",
      "\n",
      "правая производная в точке 2.39 порядка 3 равна: 0.14632739464559563\n",
      "левая производная в точке 2.39 порядка 3 равна: 0.14632739464559563\n",
      "производная в точке 2.39 порядка 3 равна: 0.14653556146271285\n",
      "\n",
      "\n"
     ]
    }
   ],
   "source": [
    "output(f3)"
   ]
  },
  {
   "cell_type": "code",
   "execution_count": 117,
   "metadata": {},
   "outputs": [
    {
     "name": "stdout",
     "output_type": "stream",
     "text": [
      "правая производная в точке 0.25 порядка 1 равна: 0.721447645435358\n",
      "левая производная в точке 0.25 порядка 1 равна: 0.7215692770712323\n",
      "производная в точке 0.25 порядка 1 равна: 0.7215084612532952\n",
      "\n",
      "\n",
      "правая производная в точке 0.51 порядка 1 равна: 0.38449921403449494\n",
      "левая производная в точке 0.51 порядка 1 равна: 0.3846353062098018\n",
      "производная в точке 0.51 порядка 1 равна: 0.38456726012214837\n",
      "\n",
      "\n",
      "правая производная в точке 0.99 порядка 2 равна: -1.3846871205203115\n",
      "левая производная в точке 0.99 порядка 2 равна: -1.3847445412551451\n",
      "производная в точке 0.99 порядка 2 равна: -1.3847158419899586\n",
      "\n",
      "\n",
      "правая производная в точке 1.09 порядка 2 равна: -1.3490698558271674\n",
      "левая производная в точке 1.09 порядка 2 равна: -1.3491546990707093\n",
      "производная в точке 1.09 порядка 2 равна: -1.3491122718978232\n",
      "\n",
      "\n",
      "правая производная в точке 1.89 порядка 3 равна: 1.2634338020234281\n",
      "левая производная в точке 1.89 порядка 3 равна: 1.2634338020234281\n",
      "производная в точке 1.89 порядка 3 равна: 1.2632672685697344\n",
      "\n",
      "\n",
      "правая производная в точке 2.39 порядка 3 равна: 1.4134249326502868\n",
      "левая производная в точке 2.39 порядка 3 равна: 1.4138690218601369\n",
      "производная в точке 2.39 порядка 3 равна: 1.4133971770746712\n",
      "\n",
      "\n"
     ]
    }
   ],
   "source": [
    "output(f4)"
   ]
  },
  {
   "cell_type": "markdown",
   "metadata": {},
   "source": [
    "## Задание 2. \n",
    "Исторические данные о дневном приросте количества заболевших в мире (https://www.worldometers.info/coronavirus/worldwide-graphs/#daily-cases) позволяют оценить динамику заболеваемости. Результатом вычислений являются полиномы - S(x), $x \\in [x_0, x_1]$, коэффициенты которых получены методом наименьших квадратов и сплайнами (см. результаты лабораторных работ по теме 6). Вычислите общее\n",
    "колическтво заболевших\n",
    "$y = \\int_{x_0}^{x_1}S(x) dx $\n",
    "двумя различными численными методами. Сделайте выводы, сравнивая методы по\n",
    "точности, сходимости и метода оценки функции S(x). "
   ]
  },
  {
   "cell_type": "code",
   "execution_count": 118,
   "metadata": {},
   "outputs": [
    {
     "data": {
      "image/png": "[encoded data removed]",
      "text/plain": [
       "<Figure size 432x288 with 1 Axes>"
      ]
     },
     "metadata": {
      "needs_background": "light"
     },
     "output_type": "display_data"
    },
    {
     "name": "stdout",
     "output_type": "stream",
     "text": [
      "Total cases estimation by rectangles method: 8066304.790962387\n",
      "Error: 0.9312577710033025 %\n",
      "Total cases estimation by Simpson method: 8068064.52730826\n",
      "Error: 0.909645041140223 %\n"
     ]
    }
   ],
   "source": [
    "def rectangle_method(x, y):\n",
    "    n = len(x)\n",
    "    result = 0\n",
    "    spline = interpolate.CubicSpline(x, y)\n",
    "    for i in range(n - 1):\n",
    "        result += spline((x[i + 1] + x[i]) / 2) * (x[i+1] - x[i]) \n",
    "    return result\n",
    "\n",
    "def simpson_method(x, y):\n",
    "    n = len(x)\n",
    "    result = 0\n",
    "    spline = interpolate.CubicSpline(x, y)\n",
    "    for i in range(n - 1):\n",
    "        result += (x[i + 1] - x[i]) / 6  * (spline(x[i]) + 4 * spline((x[i] + x[i + 1]) / 2 ) + spline(x[i + 1]))\n",
    "    return result\n",
    "\n",
    "df = pd.read_csv(r'new_cases.csv')\n",
    "x = np.arange(0, 170, 1)\n",
    "y = df['World']\n",
    "\n",
    "spline = interpolate.CubicSpline(x, y)\n",
    "z = np.linspace(x[0], x[-1], 1000)\n",
    "\n",
    "plt.plot(z, spline(z), color='m', label='spline')\n",
    "plt.grid(True)\n",
    "plt.legend()\n",
    "plt.title('From 31.12.2019 to 2020-06-17')\n",
    "plt.show()\n",
    "\n",
    "print('Total cases estimation by rectangles method:', rectangle_method(x, y))\n",
    "print(f'Error: {100 - rectangle_method(x, y) / 8142129 * 100} %')\n",
    "print('Total cases estimation by Simpson method:', simpson_method(x, y))\n",
    "print(f'Error: {100 - simpson_method(x, y) / 8142129 * 100} %')"
   ]
  },
  {
   "cell_type": "markdown",
   "metadata": {},
   "source": [
    "Таким образом можно видеть, что метод Симпсона точнее метода\n",
    "прямоугольников."
   ]
  }
 ],
 "metadata": {
  "kernelspec": {
   "display_name": "Python 3.6.8 64-bit",
   "language": "python",
   "name": "python36864bit32fa70fa2e4641c9834668fb3da99fce"
  },
  "language_info": {
   "codemirror_mode": {
    "name": "ipython",
    "version": 3
   },
   "file_extension": ".py",
   "mimetype": "text/x-python",
   "name": "python",
   "nbconvert_exporter": "python",
   "pygments_lexer": "ipython3",
   "version": "3.6.8"
  }
 },
 "nbformat": 4,
 "nbformat_minor": 4
}
